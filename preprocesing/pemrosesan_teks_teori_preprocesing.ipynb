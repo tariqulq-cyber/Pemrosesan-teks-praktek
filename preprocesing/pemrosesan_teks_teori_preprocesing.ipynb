{
  "nbformat": 4,
  "nbformat_minor": 0,
  "metadata": {
    "colab": {
      "provenance": [],
      "authorship_tag": "ABX9TyMkC+raHanyWzNYCx4F73FI",
      "include_colab_link": true
    },
    "kernelspec": {
      "name": "python3",
      "display_name": "Python 3"
    },
    "language_info": {
      "name": "python"
    }
  },
  "cells": [
    {
      "cell_type": "markdown",
      "metadata": {
        "id": "view-in-github",
        "colab_type": "text"
      },
      "source": [
        "<a href=\"https://colab.research.google.com/github/tariqulq-cyber/Pemrosesan-teks-praktek/blob/main/preprocesing/pemrosesan_teks_teori_preprocesing.ipynb\" target=\"_parent\"><img src=\"https://colab.research.google.com/assets/colab-badge.svg\" alt=\"Open In Colab\"/></a>"
      ]
    },
    {
      "cell_type": "code",
      "execution_count": 35,
      "metadata": {
        "colab": {
          "base_uri": "https://localhost:8080/"
        },
        "id": "kh18XwcPl6gN",
        "outputId": "2da2898f-4d34-4c22-d003-3c2e8ea1e134"
      },
      "outputs": [
        {
          "output_type": "stream",
          "name": "stdout",
          "text": [
            "Drive already mounted at /content/drive; to attempt to forcibly remount, call drive.mount(\"/content/drive\", force_remount=True).\n"
          ]
        }
      ],
      "source": [
        "from google.colab import drive\n",
        "drive.mount('/content/drive')"
      ]
    },
    {
      "cell_type": "code",
      "source": [
        "import pandas as pd\n",
        "import numpy as np\n",
        "import matplotlib.pyplot as plt\n",
        "import seaborn as sns"
      ],
      "metadata": {
        "id": "seS-AJcqoOXe"
      },
      "execution_count": 36,
      "outputs": []
    },
    {
      "cell_type": "code",
      "source": [
        "\n",
        "import os\n",
        "import sys\n",
        "\n",
        "# =======================================================\n",
        "# 1. KONFIGURASI AWAL\n",
        "# =======================================================\n",
        "\n",
        "NAMA_FILE_INPUT = '/content/drive/MyDrive/pemrosesan teks teori/casefolding_growtopia.csv' # Ganti dengan nama file CSV input Anda\n",
        "NAMA_FILE_OUTPUT = 'preprocesing_growtopia.csv' # Nama file CSV output\n",
        "KOLOM_TEKS = 'content' # Nama kolom yang berisi teks untuk diproses\n",
        "\n",
        "# --- KAMUS NORMALISASI KATA (Contoh) ---\n",
        "# Tambahkan lebih banyak pasangan kata sesuai kebutuhan Anda.\n",
        "normalisasi_map = {\n",
        "    'gaje': 'tidak jelas',\n",
        "    'bgt': 'banget',\n",
        "    'bikin': 'membuat',\n",
        "    'ga': 'tidak',\n",
        "    'udh': 'sudah',\n",
        "    'mabar': 'main bareng',\n",
        "    'krn': 'karena',\n",
        "    'cpt': 'cepat',\n",
        "    'kzl': 'kesal',\n",
        "    'tp': 'tapi'\n",
        "}\n",
        "\n",
        "# --- Fungsi Normalisasi Kata ---\n",
        "def normalisasi_kata(teks, mapping):\n",
        "    \"\"\"Mengganti kata tidak baku dalam teks berdasarkan mapping dictionary.\"\"\"\n",
        "    if pd.isna(teks):\n",
        "        return \"\" # Mengembalikan string kosong jika nilai hilang (NaN)\n",
        "\n",
        "    list_kata = teks.split()\n",
        "    # Mengganti kata tidak baku\n",
        "    kata_normal = [mapping.get(kata, kata) for kata in list_kata]\n",
        "\n",
        "    return \" \".join(kata_normal)\n",
        "\n",
        "print(\"=======================================================\")\n",
        "print(f\"Memulai Preprocessing untuk file: {NAMA_FILE_INPUT}\")\n",
        "print(\"=======================================================\")\n",
        "\n",
        "\n",
        "# =======================================================\n",
        "# 2. MUAT DATA DAN PENANGANAN AWAL\n",
        "# =======================================================\n",
        "try:\n",
        "    # Membaca file CSV\n",
        "    df = pd.read_csv(NAMA_FILE_INPUT)\n",
        "    print(f\"[INFO] Data berhasil dimuat. Total baris: {len(df)}\")\n",
        "\n",
        "    # Cek apakah kolom teks yang dimaksud ada\n",
        "    if KOLOM_TEKS not in df.columns:\n",
        "        print(f\"[ERROR] Kolom '{KOLOM_TEKS}' tidak ditemukan. Mohon periksa nama kolom.\")\n",
        "        sys.exit(1)\n",
        "\n",
        "    # Isi nilai yang hilang (NaN) di kolom teks dengan string kosong sebelum proses\n",
        "    df[KOLOM_TEKS] = df[KOLOM_TEKS].fillna('')\n",
        "\n",
        "except FileNotFoundError:\n",
        "    print(f\"[ERROR] File '{NAMA_FILE_INPUT}' tidak ditemukan. Pastikan file ada di folder ini.\")\n",
        "    sys.exit(1)\n",
        "except Exception as e:\n",
        "    print(f\"[ERROR] Gagal memuat file CSV: {e}\")\n",
        "    sys.exit(1)\n",
        "\n",
        "\n",
        "# =======================================================\n",
        "# 3. HAPUS DUPLIKAT (DUPLICATE REMOVAL)\n",
        "# =======================================================\n",
        "\n",
        "total_awal = len(df)\n",
        "\n",
        "# Hapus duplikat berdasarkan kolom teks saja (untuk mempertahankan data user/waktu yang berbeda)\n",
        "df.drop_duplicates(subset=[KOLOM_TEKS], inplace=True)\n",
        "\n",
        "jumlah_terhapus = total_awal - len(df)\n",
        "print(f\"[INFO] Hapus Duplikat selesai. Terhapus: {jumlah_terhapus} baris.\")\n",
        "print(f\"[INFO] Total baris setelah hapus duplikat: {len(df)}\")\n",
        "\n",
        "\n",
        "# =======================================================\n",
        "# 4. NORMALISASI KATA (WORD NORMALIZATION)\n",
        "# =======================================================\n",
        "\n",
        "# 4.1. Casefolding (Jika kolom input belum di-casefold, lakukan sekarang)\n",
        "# Karena diasumsikan input sudah di-casefold, ini hanya untuk memastikan.\n",
        "df[KOLOM_TEKS] = df[KOLOM_TEKS].astype(str).str.lower()\n",
        "print(f\"[INFO] Kolom '{KOLOM_TEKS}' dipastikan dalam huruf kecil (casefolded).\")\n",
        "\n",
        "# 4.2. Penerapan Normalisasi Kata\n",
        "# Buat kolom baru bernama 'content_processed'\n",
        "df['content_processed'] = df[KOLOM_TEKS].apply(\n",
        "    lambda x: normalisasi_kata(x, normalisasi_map)\n",
        ")\n",
        "print(\"[INFO] Normalisasi kata selesai. Hasil disimpan di kolom 'content_processed'.\")\n",
        "\n",
        "\n",
        "# =======================================================\n",
        "# 5. EKSPOR DATA KE CSV BARU\n",
        "# =======================================================\n",
        "\n",
        "# Kolom yang akan diekspor: semua kolom asli + kolom yang sudah diproses\n",
        "kolom_output = list(df.columns)\n",
        "\n",
        "print(\"\\n[PREVIEW] Perbandingan data yang diproses (5 Baris Teratas):\")\n",
        "print(df[[KOLOM_TEKS, 'content_processed']].head().to_string(index=False))\n",
        "\n",
        "try:\n",
        "    # Pastikan Anda mengekspor DataFrame dengan kolom yang sudah diproses\n",
        "    with open(NAMA_FILE_OUTPUT, 'w', newline='', encoding='utf-8') as f:\n",
        "        df.to_csv(\n",
        "            f,\n",
        "            index=False,\n",
        "            encoding='utf-8'\n",
        "        )\n",
        "\n",
        "    print(f\"\\n[SUKSES EKSPOR] Data Preprocessing selesai dan disimpan ke file:\")\n",
        "    print(f\"{os.path.abspath(NAMA_FILE_OUTPUT)}\")\n",
        "    print(\"=======================================================\")\n",
        "\n",
        "except Exception as e:\n",
        "    # LOGGING ERROR KRITIS UNTUK DIAGNOSIS\n",
        "    print(\"=======================================================\")\n",
        "    print(\"\\n[!!! KEGAGALAN KRITIS EKSPOR CSV !!!]\")\n",
        "    print(f\"Tipe Kesalahan: {type(e).__name__}\")\n",
        "    print(f\"Detail Kesalahan: {e}\")\n",
        "    print(\"\\nSOLUSI (Wajib Dicoba):\")\n",
        "    print(\"1. Coba ganti NAMA_FILE_OUTPUT dengan jalur ABSOLUT (e.g., C:\\\\Users\\\\...\\\\nama.csv).\")\n",
        "    print(\"2. Pastikan file output TIDAK sedang dibuka di program lain (Excel, editor teks).\")\n",
        "    print(\"3. Coba jalankan terminal/CMD Anda sebagai ADMINISTRATOR.\")\n",
        "    print(\"=======================================================\")"
      ],
      "metadata": {
        "colab": {
          "base_uri": "https://localhost:8080/"
        },
        "id": "2JFuIcJiuOm3",
        "outputId": "a9f2c923-883a-4e7f-cc99-ea22290105d4"
      },
      "execution_count": 37,
      "outputs": [
        {
          "output_type": "stream",
          "name": "stdout",
          "text": [
            "=======================================================\n",
            "Memulai Preprocessing untuk file: /content/drive/MyDrive/pemrosesan teks teori/casefolding_growtopia.csv\n",
            "=======================================================\n",
            "[INFO] Data berhasil dimuat. Total baris: 1000\n",
            "[INFO] Hapus Duplikat selesai. Terhapus: 50 baris.\n",
            "[INFO] Total baris setelah hapus duplikat: 950\n",
            "[INFO] Kolom 'content' dipastikan dalam huruf kecil (casefolded).\n",
            "[INFO] Normalisasi kata selesai. Hasil disimpan di kolom 'content_processed'.\n",
            "\n",
            "[PREVIEW] Perbandingan data yang diproses (5 Baris Teratas):\n",
            "                                                                                                                                                   content                                                                                                                                          content_processed\n",
            "                                                                              game nya susah banget anj cuman buat login bikin akun di persulit game konfl                                                                             game nya susah banget anj cuman buat login membuat akun di persulit game konfl\n",
            "                                                                                                                                                         🤑                                                                                                                                                          🤑\n",
            "                                                                                                                                                  not good                                                                                                                                                   not good\n",
            "                                                                                                                                                     bagus                                                                                                                                                      bagus\n",
            "i really love this game but i'm always disappointed with the system. i can't log in using data/wifi, it often disconnects, and i get banned for no reason. i really love this game but i'm always disappointed with the system. i can't log in using data/wifi, it often disconnects, and i get banned for no reason.\n",
            "\n",
            "[SUKSES EKSPOR] Data Preprocessing selesai dan disimpan ke file:\n",
            "/content/preprocesing_growtopia.csv\n",
            "=======================================================\n"
          ]
        }
      ]
    }
  ]
}